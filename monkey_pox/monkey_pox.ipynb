{
 "cells": [
  {
   "cell_type": "markdown",
   "id": "34a81665-cdb2-4c18-a9e3-c553e6c98743",
   "metadata": {},
   "source": [
    "## Import library"
   ]
  },
  {
   "cell_type": "code",
   "execution_count": 2,
   "id": "ec309b27-ed75-40f0-a0a2-3dd6be4d7962",
   "metadata": {},
   "outputs": [],
   "source": [
    "import pandas as pd\n",
    "import matplotlib.pyplot as plt\n",
    "import seaborn as sns\n",
    "import plotly.express as px"
   ]
  },
  {
   "cell_type": "markdown",
   "id": "1faa5733-4e7d-459c-8bc8-fafb239dfaa3",
   "metadata": {},
   "source": [
    "## Import table"
   ]
  },
  {
   "cell_type": "code",
   "execution_count": 4,
   "id": "29814831-570b-4005-b34f-823590276af0",
   "metadata": {},
   "outputs": [
    {
     "name": "stderr",
     "output_type": "stream",
     "text": [
      "/var/folders/lb/gbzzh3xs2w5bhk44y2z2zsf80000gn/T/ipykernel_25053/200544256.py:5: DtypeWarning: Columns (2,3,4,5,6,7,8) have mixed types. Specify dtype option on import or set low_memory=False.\n",
      "  df_worldwide = pd.read_csv('Worldwide_Case_Detection_Timeline.csv')\n"
     ]
    }
   ],
   "source": [
    "# Get data from Daily_Country_Wise_Confirmed_Cases\n",
    "df_daily_country = pd.read_csv('Daily_Country_Wise_Confirmed_Cases.csv')\n",
    "\n",
    "# Get data from Worldwide_Case_Detection_Timeline\n",
    "df_worldwide = pd.read_csv('Worldwide_Case_Detection_Timeline.csv')\n",
    "\n",
    "# Get data from Monkey_Pox_Cases_Worldwide\n",
    "df_monkey_pox_cases = pd.read_csv('Monkey_Pox_Cases_Worldwide.csv')"
   ]
  },
  {
   "cell_type": "code",
   "execution_count": 5,
   "id": "274dc9ae-84c3-42d7-b6ca-6275256d4f02",
   "metadata": {},
   "outputs": [
    {
     "name": "stdout",
     "output_type": "stream",
     "text": [
      "Initial rows of Daily_Country_Wise_Confirmed_Cases:\n"
     ]
    },
    {
     "data": {
      "text/html": [
       "<div>\n",
       "<style scoped>\n",
       "    .dataframe tbody tr th:only-of-type {\n",
       "        vertical-align: middle;\n",
       "    }\n",
       "\n",
       "    .dataframe tbody tr th {\n",
       "        vertical-align: top;\n",
       "    }\n",
       "\n",
       "    .dataframe thead th {\n",
       "        text-align: right;\n",
       "    }\n",
       "</style>\n",
       "<table border=\"1\" class=\"dataframe\">\n",
       "  <thead>\n",
       "    <tr style=\"text-align: right;\">\n",
       "      <th></th>\n",
       "      <th>Country</th>\n",
       "      <th>2022-01-31</th>\n",
       "      <th>2022-02-17</th>\n",
       "      <th>2022-02-28</th>\n",
       "      <th>2022-03-04</th>\n",
       "      <th>2022-03-31</th>\n",
       "      <th>2022-04-10</th>\n",
       "      <th>2022-04-12</th>\n",
       "      <th>2022-04-30</th>\n",
       "      <th>2022-05-06</th>\n",
       "      <th>...</th>\n",
       "      <th>2022-09-13</th>\n",
       "      <th>2022-09-14</th>\n",
       "      <th>2022-09-15</th>\n",
       "      <th>2022-09-16</th>\n",
       "      <th>2022-09-17</th>\n",
       "      <th>2022-09-18</th>\n",
       "      <th>2022-09-19</th>\n",
       "      <th>2022-09-20</th>\n",
       "      <th>2022-09-21</th>\n",
       "      <th>2022-09-22</th>\n",
       "    </tr>\n",
       "  </thead>\n",
       "  <tbody>\n",
       "    <tr>\n",
       "      <th>0</th>\n",
       "      <td>Nigeria</td>\n",
       "      <td>3</td>\n",
       "      <td>0</td>\n",
       "      <td>1</td>\n",
       "      <td>0</td>\n",
       "      <td>6</td>\n",
       "      <td>0</td>\n",
       "      <td>0</td>\n",
       "      <td>5</td>\n",
       "      <td>0</td>\n",
       "      <td>...</td>\n",
       "      <td>0</td>\n",
       "      <td>0</td>\n",
       "      <td>0</td>\n",
       "      <td>0</td>\n",
       "      <td>0</td>\n",
       "      <td>0</td>\n",
       "      <td>0</td>\n",
       "      <td>0</td>\n",
       "      <td>0</td>\n",
       "      <td>0</td>\n",
       "    </tr>\n",
       "    <tr>\n",
       "      <th>1</th>\n",
       "      <td>Cameroon</td>\n",
       "      <td>0</td>\n",
       "      <td>3</td>\n",
       "      <td>0</td>\n",
       "      <td>0</td>\n",
       "      <td>0</td>\n",
       "      <td>0</td>\n",
       "      <td>0</td>\n",
       "      <td>0</td>\n",
       "      <td>0</td>\n",
       "      <td>...</td>\n",
       "      <td>0</td>\n",
       "      <td>0</td>\n",
       "      <td>0</td>\n",
       "      <td>0</td>\n",
       "      <td>0</td>\n",
       "      <td>0</td>\n",
       "      <td>0</td>\n",
       "      <td>0</td>\n",
       "      <td>0</td>\n",
       "      <td>0</td>\n",
       "    </tr>\n",
       "    <tr>\n",
       "      <th>2</th>\n",
       "      <td>Central African Republic</td>\n",
       "      <td>0</td>\n",
       "      <td>0</td>\n",
       "      <td>0</td>\n",
       "      <td>2</td>\n",
       "      <td>0</td>\n",
       "      <td>4</td>\n",
       "      <td>0</td>\n",
       "      <td>0</td>\n",
       "      <td>0</td>\n",
       "      <td>...</td>\n",
       "      <td>0</td>\n",
       "      <td>0</td>\n",
       "      <td>0</td>\n",
       "      <td>0</td>\n",
       "      <td>0</td>\n",
       "      <td>0</td>\n",
       "      <td>0</td>\n",
       "      <td>0</td>\n",
       "      <td>0</td>\n",
       "      <td>0</td>\n",
       "    </tr>\n",
       "    <tr>\n",
       "      <th>3</th>\n",
       "      <td>Republic of Congo</td>\n",
       "      <td>0</td>\n",
       "      <td>0</td>\n",
       "      <td>0</td>\n",
       "      <td>0</td>\n",
       "      <td>0</td>\n",
       "      <td>0</td>\n",
       "      <td>2</td>\n",
       "      <td>0</td>\n",
       "      <td>0</td>\n",
       "      <td>...</td>\n",
       "      <td>0</td>\n",
       "      <td>0</td>\n",
       "      <td>0</td>\n",
       "      <td>0</td>\n",
       "      <td>0</td>\n",
       "      <td>0</td>\n",
       "      <td>0</td>\n",
       "      <td>0</td>\n",
       "      <td>0</td>\n",
       "      <td>0</td>\n",
       "    </tr>\n",
       "    <tr>\n",
       "      <th>4</th>\n",
       "      <td>England</td>\n",
       "      <td>0</td>\n",
       "      <td>0</td>\n",
       "      <td>0</td>\n",
       "      <td>0</td>\n",
       "      <td>0</td>\n",
       "      <td>0</td>\n",
       "      <td>0</td>\n",
       "      <td>0</td>\n",
       "      <td>1</td>\n",
       "      <td>...</td>\n",
       "      <td>0</td>\n",
       "      <td>0</td>\n",
       "      <td>0</td>\n",
       "      <td>0</td>\n",
       "      <td>0</td>\n",
       "      <td>0</td>\n",
       "      <td>0</td>\n",
       "      <td>29</td>\n",
       "      <td>0</td>\n",
       "      <td>0</td>\n",
       "    </tr>\n",
       "  </tbody>\n",
       "</table>\n",
       "<p>5 rows × 142 columns</p>\n",
       "</div>"
      ],
      "text/plain": [
       "                    Country  2022-01-31  2022-02-17  2022-02-28  2022-03-04  \\\n",
       "0                   Nigeria           3           0           1           0   \n",
       "1                  Cameroon           0           3           0           0   \n",
       "2  Central African Republic           0           0           0           2   \n",
       "3         Republic of Congo           0           0           0           0   \n",
       "4                   England           0           0           0           0   \n",
       "\n",
       "   2022-03-31  2022-04-10  2022-04-12  2022-04-30  2022-05-06  ...  \\\n",
       "0           6           0           0           5           0  ...   \n",
       "1           0           0           0           0           0  ...   \n",
       "2           0           4           0           0           0  ...   \n",
       "3           0           0           2           0           0  ...   \n",
       "4           0           0           0           0           1  ...   \n",
       "\n",
       "   2022-09-13  2022-09-14  2022-09-15  2022-09-16  2022-09-17  2022-09-18  \\\n",
       "0           0           0           0           0           0           0   \n",
       "1           0           0           0           0           0           0   \n",
       "2           0           0           0           0           0           0   \n",
       "3           0           0           0           0           0           0   \n",
       "4           0           0           0           0           0           0   \n",
       "\n",
       "   2022-09-19  2022-09-20  2022-09-21  2022-09-22  \n",
       "0           0           0           0           0  \n",
       "1           0           0           0           0  \n",
       "2           0           0           0           0  \n",
       "3           0           0           0           0  \n",
       "4           0          29           0           0  \n",
       "\n",
       "[5 rows x 142 columns]"
      ]
     },
     "execution_count": 5,
     "metadata": {},
     "output_type": "execute_result"
    }
   ],
   "source": [
    "# Display the Initial rows in Daily_Country_Wise_Confirmed_Cases file\n",
    "print(\"Initial rows of Daily_Country_Wise_Confirmed_Cases:\")\n",
    "df_daily_country.head()"
   ]
  },
  {
   "cell_type": "code",
   "execution_count": 6,
   "id": "869b510b-190c-4950-b731-ff5cd2e6bdf4",
   "metadata": {},
   "outputs": [
    {
     "name": "stdout",
     "output_type": "stream",
     "text": [
      "Initial rows of Worldwide_Case_Detection_Timeline:\n"
     ]
    },
    {
     "data": {
      "text/html": [
       "<div>\n",
       "<style scoped>\n",
       "    .dataframe tbody tr th:only-of-type {\n",
       "        vertical-align: middle;\n",
       "    }\n",
       "\n",
       "    .dataframe tbody tr th {\n",
       "        vertical-align: top;\n",
       "    }\n",
       "\n",
       "    .dataframe thead th {\n",
       "        text-align: right;\n",
       "    }\n",
       "</style>\n",
       "<table border=\"1\" class=\"dataframe\">\n",
       "  <thead>\n",
       "    <tr style=\"text-align: right;\">\n",
       "      <th></th>\n",
       "      <th>Date_confirmation</th>\n",
       "      <th>Country</th>\n",
       "      <th>City</th>\n",
       "      <th>Age</th>\n",
       "      <th>Gender</th>\n",
       "      <th>Symptoms</th>\n",
       "      <th>Hospitalised (Y/N/NA)</th>\n",
       "      <th>Isolated (Y/N/NA)</th>\n",
       "      <th>Travel_history (Y/N/NA)</th>\n",
       "    </tr>\n",
       "  </thead>\n",
       "  <tbody>\n",
       "    <tr>\n",
       "      <th>0</th>\n",
       "      <td>2022-01-31</td>\n",
       "      <td>Nigeria</td>\n",
       "      <td>NaN</td>\n",
       "      <td>NaN</td>\n",
       "      <td>NaN</td>\n",
       "      <td>NaN</td>\n",
       "      <td>NaN</td>\n",
       "      <td>NaN</td>\n",
       "      <td>NaN</td>\n",
       "    </tr>\n",
       "    <tr>\n",
       "      <th>1</th>\n",
       "      <td>2022-01-31</td>\n",
       "      <td>Nigeria</td>\n",
       "      <td>NaN</td>\n",
       "      <td>NaN</td>\n",
       "      <td>NaN</td>\n",
       "      <td>NaN</td>\n",
       "      <td>NaN</td>\n",
       "      <td>NaN</td>\n",
       "      <td>NaN</td>\n",
       "    </tr>\n",
       "    <tr>\n",
       "      <th>2</th>\n",
       "      <td>2022-01-31</td>\n",
       "      <td>Nigeria</td>\n",
       "      <td>NaN</td>\n",
       "      <td>NaN</td>\n",
       "      <td>NaN</td>\n",
       "      <td>NaN</td>\n",
       "      <td>NaN</td>\n",
       "      <td>NaN</td>\n",
       "      <td>NaN</td>\n",
       "    </tr>\n",
       "    <tr>\n",
       "      <th>3</th>\n",
       "      <td>2022-02-17</td>\n",
       "      <td>Cameroon</td>\n",
       "      <td>NaN</td>\n",
       "      <td>0-39</td>\n",
       "      <td>NaN</td>\n",
       "      <td>NaN</td>\n",
       "      <td>NaN</td>\n",
       "      <td>NaN</td>\n",
       "      <td>NaN</td>\n",
       "    </tr>\n",
       "    <tr>\n",
       "      <th>4</th>\n",
       "      <td>2022-02-17</td>\n",
       "      <td>Cameroon</td>\n",
       "      <td>NaN</td>\n",
       "      <td>0-39</td>\n",
       "      <td>NaN</td>\n",
       "      <td>NaN</td>\n",
       "      <td>NaN</td>\n",
       "      <td>NaN</td>\n",
       "      <td>NaN</td>\n",
       "    </tr>\n",
       "  </tbody>\n",
       "</table>\n",
       "</div>"
      ],
      "text/plain": [
       "  Date_confirmation   Country City   Age Gender Symptoms  \\\n",
       "0        2022-01-31   Nigeria  NaN   NaN    NaN      NaN   \n",
       "1        2022-01-31   Nigeria  NaN   NaN    NaN      NaN   \n",
       "2        2022-01-31   Nigeria  NaN   NaN    NaN      NaN   \n",
       "3        2022-02-17  Cameroon  NaN  0-39    NaN      NaN   \n",
       "4        2022-02-17  Cameroon  NaN  0-39    NaN      NaN   \n",
       "\n",
       "  Hospitalised (Y/N/NA) Isolated (Y/N/NA) Travel_history (Y/N/NA)  \n",
       "0                   NaN               NaN                     NaN  \n",
       "1                   NaN               NaN                     NaN  \n",
       "2                   NaN               NaN                     NaN  \n",
       "3                   NaN               NaN                     NaN  \n",
       "4                   NaN               NaN                     NaN  "
      ]
     },
     "execution_count": 6,
     "metadata": {},
     "output_type": "execute_result"
    }
   ],
   "source": [
    "# Display the Initial rows in Worldwide_Case_Detection_Timeline file\n",
    "print(\"Initial rows of Worldwide_Case_Detection_Timeline:\")\n",
    "df_worldwide.head()"
   ]
  },
  {
   "cell_type": "code",
   "execution_count": 7,
   "id": "9164b25f-eb76-438d-90c8-d3685b439887",
   "metadata": {},
   "outputs": [
    {
     "name": "stdout",
     "output_type": "stream",
     "text": [
      "Initial rows of Monkey_Pox_Cases_Worldwide:\n"
     ]
    },
    {
     "data": {
      "text/html": [
       "<div>\n",
       "<style scoped>\n",
       "    .dataframe tbody tr th:only-of-type {\n",
       "        vertical-align: middle;\n",
       "    }\n",
       "\n",
       "    .dataframe tbody tr th {\n",
       "        vertical-align: top;\n",
       "    }\n",
       "\n",
       "    .dataframe thead th {\n",
       "        text-align: right;\n",
       "    }\n",
       "</style>\n",
       "<table border=\"1\" class=\"dataframe\">\n",
       "  <thead>\n",
       "    <tr style=\"text-align: right;\">\n",
       "      <th></th>\n",
       "      <th>Country</th>\n",
       "      <th>Confirmed_Cases</th>\n",
       "      <th>Suspected_Cases</th>\n",
       "      <th>Hospitalized</th>\n",
       "      <th>Travel_History_Yes</th>\n",
       "      <th>Travel_History_No</th>\n",
       "    </tr>\n",
       "  </thead>\n",
       "  <tbody>\n",
       "    <tr>\n",
       "      <th>0</th>\n",
       "      <td>England</td>\n",
       "      <td>3412.0</td>\n",
       "      <td>0.0</td>\n",
       "      <td>5.0</td>\n",
       "      <td>2.0</td>\n",
       "      <td>7.0</td>\n",
       "    </tr>\n",
       "    <tr>\n",
       "      <th>1</th>\n",
       "      <td>Portugal</td>\n",
       "      <td>908.0</td>\n",
       "      <td>0.0</td>\n",
       "      <td>0.0</td>\n",
       "      <td>0.0</td>\n",
       "      <td>34.0</td>\n",
       "    </tr>\n",
       "    <tr>\n",
       "      <th>2</th>\n",
       "      <td>Spain</td>\n",
       "      <td>7083.0</td>\n",
       "      <td>0.0</td>\n",
       "      <td>13.0</td>\n",
       "      <td>2.0</td>\n",
       "      <td>0.0</td>\n",
       "    </tr>\n",
       "    <tr>\n",
       "      <th>3</th>\n",
       "      <td>United States</td>\n",
       "      <td>24403.0</td>\n",
       "      <td>0.0</td>\n",
       "      <td>4.0</td>\n",
       "      <td>41.0</td>\n",
       "      <td>11.0</td>\n",
       "    </tr>\n",
       "    <tr>\n",
       "      <th>4</th>\n",
       "      <td>Canada</td>\n",
       "      <td>1388.0</td>\n",
       "      <td>12.0</td>\n",
       "      <td>1.0</td>\n",
       "      <td>5.0</td>\n",
       "      <td>0.0</td>\n",
       "    </tr>\n",
       "  </tbody>\n",
       "</table>\n",
       "</div>"
      ],
      "text/plain": [
       "         Country  Confirmed_Cases  Suspected_Cases  Hospitalized  \\\n",
       "0        England           3412.0              0.0           5.0   \n",
       "1       Portugal            908.0              0.0           0.0   \n",
       "2          Spain           7083.0              0.0          13.0   \n",
       "3  United States          24403.0              0.0           4.0   \n",
       "4         Canada           1388.0             12.0           1.0   \n",
       "\n",
       "   Travel_History_Yes  Travel_History_No  \n",
       "0                 2.0                7.0  \n",
       "1                 0.0               34.0  \n",
       "2                 2.0                0.0  \n",
       "3                41.0               11.0  \n",
       "4                 5.0                0.0  "
      ]
     },
     "execution_count": 7,
     "metadata": {},
     "output_type": "execute_result"
    }
   ],
   "source": [
    "# Display the Initial rows in Monkey_Pox_Cases_Worldwide file\n",
    "print(\"Initial rows of Monkey_Pox_Cases_Worldwide:\")\n",
    "df_monkey_pox_cases.head()"
   ]
  },
  {
   "cell_type": "code",
   "execution_count": 8,
   "id": "ee1d6662-d2b2-4356-b2d4-647fb2d18bde",
   "metadata": {
    "scrolled": true
   },
   "outputs": [
    {
     "name": "stderr",
     "output_type": "stream",
     "text": [
      "/var/folders/lb/gbzzh3xs2w5bhk44y2z2zsf80000gn/T/ipykernel_25053/2152336665.py:11: FutureWarning: DataFrame.groupby with axis=1 is deprecated. Do `frame.T.groupby(...)` without axis instead.\n",
      "  monthly_data = df_daily_country.iloc[:, 1:].groupby(month_columns, axis=1).sum()\n"
     ]
    }
   ],
   "source": [
    "# Cast the data columns to Datetime object series\n",
    "date_columns = pd.to_datetime(df_daily_country.columns[1:])\n",
    "\n",
    "# Add the the cast data column to the origin table in the Date format\n",
    "df_daily_country.columns = ['Country'] + date_columns.astype(str).tolist()\n",
    "\n",
    "# Cast the date periods to Month\n",
    "month_columns = date_columns.to_period(\"M\")\n",
    "\n",
    "# Sum the number of cases per month\n",
    "monthly_data = df_daily_country.iloc[:, 1:].groupby(month_columns, axis=1).sum()\n",
    "monthly_data.loc['Total'] = monthly_data.sum()\n",
    "\n",
    "# Add the country with the number of cases per month\n",
    "monthly_country = pd.concat([df_daily_country[['Country']], monthly_data], axis=1)\n",
    "\n",
    "# Add the total of cases per country\n",
    "country_total = monthly_data.sum(axis=1)\n",
    "monthly_country['Total_Country'] = country_total"
   ]
  },
  {
   "cell_type": "code",
   "execution_count": 9,
   "id": "54752486-8390-4db4-b06b-370ed86323f2",
   "metadata": {},
   "outputs": [
    {
     "data": {
      "text/html": [
       "<div>\n",
       "<style scoped>\n",
       "    .dataframe tbody tr th:only-of-type {\n",
       "        vertical-align: middle;\n",
       "    }\n",
       "\n",
       "    .dataframe tbody tr th {\n",
       "        vertical-align: top;\n",
       "    }\n",
       "\n",
       "    .dataframe thead th {\n",
       "        text-align: right;\n",
       "    }\n",
       "</style>\n",
       "<table border=\"1\" class=\"dataframe\">\n",
       "  <thead>\n",
       "    <tr style=\"text-align: right;\">\n",
       "      <th></th>\n",
       "      <th>Country</th>\n",
       "      <th>2022-01</th>\n",
       "      <th>2022-02</th>\n",
       "      <th>2022-03</th>\n",
       "      <th>2022-04</th>\n",
       "      <th>2022-05</th>\n",
       "      <th>2022-06</th>\n",
       "      <th>2022-07</th>\n",
       "      <th>2022-08</th>\n",
       "      <th>2022-09</th>\n",
       "      <th>Total_Country</th>\n",
       "    </tr>\n",
       "  </thead>\n",
       "  <tbody>\n",
       "    <tr>\n",
       "      <th>0</th>\n",
       "      <td>Nigeria</td>\n",
       "      <td>3</td>\n",
       "      <td>1</td>\n",
       "      <td>6</td>\n",
       "      <td>5</td>\n",
       "      <td>6</td>\n",
       "      <td>39</td>\n",
       "      <td>97</td>\n",
       "      <td>120</td>\n",
       "      <td>0</td>\n",
       "      <td>277</td>\n",
       "    </tr>\n",
       "    <tr>\n",
       "      <th>1</th>\n",
       "      <td>Cameroon</td>\n",
       "      <td>0</td>\n",
       "      <td>3</td>\n",
       "      <td>0</td>\n",
       "      <td>0</td>\n",
       "      <td>0</td>\n",
       "      <td>3</td>\n",
       "      <td>1</td>\n",
       "      <td>0</td>\n",
       "      <td>0</td>\n",
       "      <td>7</td>\n",
       "    </tr>\n",
       "    <tr>\n",
       "      <th>2</th>\n",
       "      <td>Central African Republic</td>\n",
       "      <td>0</td>\n",
       "      <td>0</td>\n",
       "      <td>2</td>\n",
       "      <td>4</td>\n",
       "      <td>2</td>\n",
       "      <td>0</td>\n",
       "      <td>0</td>\n",
       "      <td>0</td>\n",
       "      <td>0</td>\n",
       "      <td>8</td>\n",
       "    </tr>\n",
       "    <tr>\n",
       "      <th>3</th>\n",
       "      <td>Republic of Congo</td>\n",
       "      <td>0</td>\n",
       "      <td>0</td>\n",
       "      <td>0</td>\n",
       "      <td>2</td>\n",
       "      <td>0</td>\n",
       "      <td>0</td>\n",
       "      <td>1</td>\n",
       "      <td>0</td>\n",
       "      <td>0</td>\n",
       "      <td>3</td>\n",
       "    </tr>\n",
       "    <tr>\n",
       "      <th>4</th>\n",
       "      <td>England</td>\n",
       "      <td>0</td>\n",
       "      <td>0</td>\n",
       "      <td>0</td>\n",
       "      <td>0</td>\n",
       "      <td>183</td>\n",
       "      <td>1002</td>\n",
       "      <td>1251</td>\n",
       "      <td>821</td>\n",
       "      <td>155</td>\n",
       "      <td>3412</td>\n",
       "    </tr>\n",
       "    <tr>\n",
       "      <th>...</th>\n",
       "      <td>...</td>\n",
       "      <td>...</td>\n",
       "      <td>...</td>\n",
       "      <td>...</td>\n",
       "      <td>...</td>\n",
       "      <td>...</td>\n",
       "      <td>...</td>\n",
       "      <td>...</td>\n",
       "      <td>...</td>\n",
       "      <td>...</td>\n",
       "      <td>...</td>\n",
       "    </tr>\n",
       "    <tr>\n",
       "      <th>108</th>\n",
       "      <td>Guam</td>\n",
       "      <td>0</td>\n",
       "      <td>0</td>\n",
       "      <td>0</td>\n",
       "      <td>0</td>\n",
       "      <td>0</td>\n",
       "      <td>0</td>\n",
       "      <td>0</td>\n",
       "      <td>0</td>\n",
       "      <td>1</td>\n",
       "      <td>1</td>\n",
       "    </tr>\n",
       "    <tr>\n",
       "      <th>109</th>\n",
       "      <td>Ukraine</td>\n",
       "      <td>0</td>\n",
       "      <td>0</td>\n",
       "      <td>0</td>\n",
       "      <td>0</td>\n",
       "      <td>0</td>\n",
       "      <td>0</td>\n",
       "      <td>0</td>\n",
       "      <td>0</td>\n",
       "      <td>2</td>\n",
       "      <td>2</td>\n",
       "    </tr>\n",
       "    <tr>\n",
       "      <th>110</th>\n",
       "      <td>Bahrain</td>\n",
       "      <td>0</td>\n",
       "      <td>0</td>\n",
       "      <td>0</td>\n",
       "      <td>0</td>\n",
       "      <td>0</td>\n",
       "      <td>0</td>\n",
       "      <td>0</td>\n",
       "      <td>0</td>\n",
       "      <td>1</td>\n",
       "      <td>1</td>\n",
       "    </tr>\n",
       "    <tr>\n",
       "      <th>111</th>\n",
       "      <td>China</td>\n",
       "      <td>0</td>\n",
       "      <td>0</td>\n",
       "      <td>0</td>\n",
       "      <td>0</td>\n",
       "      <td>0</td>\n",
       "      <td>0</td>\n",
       "      <td>0</td>\n",
       "      <td>0</td>\n",
       "      <td>1</td>\n",
       "      <td>1</td>\n",
       "    </tr>\n",
       "    <tr>\n",
       "      <th>Total</th>\n",
       "      <td>NaN</td>\n",
       "      <td>3</td>\n",
       "      <td>4</td>\n",
       "      <td>8</td>\n",
       "      <td>11</td>\n",
       "      <td>639</td>\n",
       "      <td>5541</td>\n",
       "      <td>17097</td>\n",
       "      <td>28701</td>\n",
       "      <td>13211</td>\n",
       "      <td>65215</td>\n",
       "    </tr>\n",
       "  </tbody>\n",
       "</table>\n",
       "<p>113 rows × 11 columns</p>\n",
       "</div>"
      ],
      "text/plain": [
       "                        Country  2022-01  2022-02  2022-03  2022-04  2022-05  \\\n",
       "0                       Nigeria        3        1        6        5        6   \n",
       "1                      Cameroon        0        3        0        0        0   \n",
       "2      Central African Republic        0        0        2        4        2   \n",
       "3             Republic of Congo        0        0        0        2        0   \n",
       "4                       England        0        0        0        0      183   \n",
       "...                         ...      ...      ...      ...      ...      ...   \n",
       "108                        Guam        0        0        0        0        0   \n",
       "109                     Ukraine        0        0        0        0        0   \n",
       "110                     Bahrain        0        0        0        0        0   \n",
       "111                       China        0        0        0        0        0   \n",
       "Total                       NaN        3        4        8       11      639   \n",
       "\n",
       "       2022-06  2022-07  2022-08  2022-09  Total_Country  \n",
       "0           39       97      120        0            277  \n",
       "1            3        1        0        0              7  \n",
       "2            0        0        0        0              8  \n",
       "3            0        1        0        0              3  \n",
       "4         1002     1251      821      155           3412  \n",
       "...        ...      ...      ...      ...            ...  \n",
       "108          0        0        0        1              1  \n",
       "109          0        0        0        2              2  \n",
       "110          0        0        0        1              1  \n",
       "111          0        0        0        1              1  \n",
       "Total     5541    17097    28701    13211          65215  \n",
       "\n",
       "[113 rows x 11 columns]"
      ]
     },
     "execution_count": 9,
     "metadata": {},
     "output_type": "execute_result"
    }
   ],
   "source": [
    "monthly_country"
   ]
  },
  {
   "cell_type": "markdown",
   "id": "83ae0cea-d6aa-4a3d-99de-b57a55d2449f",
   "metadata": {},
   "source": [
    "### 1. Progression of the cases over the year"
   ]
  },
  {
   "cell_type": "code",
   "execution_count": 11,
   "id": "361b073b-66f0-4662-bd5a-dd1cd0d303f4",
   "metadata": {},
   "outputs": [
    {
     "data": {
      "image/png": "[encoded data removed]",
      "text/plain": [
       "<Figure size 640x480 with 1 Axes>"
      ]
     },
     "metadata": {},
     "output_type": "display_data"
    }
   ],
   "source": [
    "# Plot with Matplot\n",
    "monthly_data.loc['Total'].plot(kind='line', marker='o')\n",
    "plt.title('Total des cas par mois')\n",
    "plt.xlabel('Mois')\n",
    "plt.ylabel('Nombre total de cas')\n",
    "#plt.grid(True)\n",
    "plt.xticks(rotation=45)\n",
    "plt.show()"
   ]
  },
  {
   "cell_type": "code",
   "execution_count": 12,
   "id": "95a7db27-77e1-4f5f-9956-bc630f327c78",
   "metadata": {},
   "outputs": [
    {
     "data": {
      "image/png": "[encoded data removed]",
      "text/plain": [
       "<Figure size 640x480 with 1 Axes>"
      ]
     },
     "metadata": {},
     "output_type": "display_data"
    }
   ],
   "source": [
    "# Format data for seaborn\n",
    "total_cases = monthly_data.loc['Total']\n",
    "total_cases_df = total_cases.reset_index()\n",
    "total_cases_df.columns = ['Month', 'Totals']\n",
    "total_cases_df['Month'] = total_cases_df['Month'].astype('str')\n",
    "\n",
    "\n",
    "# Plot with seaborn\n",
    "sns.lineplot(x='Month', y='Totals', data=total_cases_df, marker='o')\n",
    "plt.title('Total cases per Month')\n",
    "plt.xlabel('Month')\n",
    "plt.ylabel('Total number of cases')\n",
    "plt.xticks(rotation=45)\n",
    "plt.tight_layout()\n",
    "plt.show()"
   ]
  },
  {
   "cell_type": "markdown",
   "id": "20350175-24fc-492b-8ec2-5d5cdd5baa38",
   "metadata": {},
   "source": [
    "### 2. Countries with the biggest progression"
   ]
  },
  {
   "cell_type": "code",
   "execution_count": 16,
   "id": "0653752b-4141-4227-9a73-00dc47b5cf04",
   "metadata": {},
   "outputs": [],
   "source": [
    "# Remove the Total from the analyses\n",
    "country_total_df = monthly_country.iloc[:-1]\n",
    "country_total_df = country_total_df.drop('Total_Country', axis=1)\n",
    "\n",
    "#Get top countries for each month (columns) based on the country (rows)\n",
    "country_total_df.set_index('Country', inplace=True)\n",
    "max_countries = country_total_df.idxmax()\n",
    "\n",
    "#Format for seaborn plot\n",
    "max_countries = max_countries.reset_index()\n",
    "max_countries.columns = ['Month', 'Top_Country']\n",
    "max_countries['Month'] = max_countries['Month'].astype('str')"
   ]
  },
  {
   "cell_type": "code",
   "execution_count": 21,
   "id": "2eb279ad-67d3-4c93-b804-a7c61ed6d1d6",
   "metadata": {},
   "outputs": [
    {
     "data": {
      "image/png": "[encoded data removed]",
      "text/plain": [
       "<Figure size 800x500 with 1 Axes>"
      ]
     },
     "metadata": {},
     "output_type": "display_data"
    }
   ],
   "source": [
    "df = pd.merge(max_countries, total_cases_df, on='Month')\n",
    "\n",
    "plt.figure(figsize=(8, 5))\n",
    "sns.lineplot(data=df, x='Month', y='Totals', marker='o', label='Total Cases')\n",
    "\n",
    "# Add Country to each point\n",
    "for i in range(len(df)):\n",
    "    plt.text(x=df['Month'][i], y=df['Totals'][i], s=df['Top_Country'][i], ha='center', va='bottom', fontsize=10, fontweight='bold')\n",
    "\n",
    "plt.xticks(rotation=45)\n",
    "plt.xlabel('Month')\n",
    "plt.ylabel('Total Cases')\n",
    "plt.title('Total cases per month with Top Country')\n",
    "plt.tight_layout()\n",
    "plt.show()"
   ]
  },
  {
   "cell_type": "markdown",
   "id": "1ec8d43c-4942-431a-8311-c8cf680a1c1d",
   "metadata": {},
   "source": [
    "### 3. Top 10 countries with the Most Cases over the year"
   ]
  },
  {
   "cell_type": "code",
   "execution_count": 24,
   "id": "284763ab-8a48-49d3-9bac-1b51146b41fd",
   "metadata": {},
   "outputs": [],
   "source": [
    "#Get the interesting data Country & Total\n",
    "country_total_df = monthly_country[['Country','Total_Country']]\n",
    "\n",
    "#Remove last lign (sum of the Total Country)\n",
    "country_total_df = country_total_df.iloc[:-1]\n",
    "\n",
    "# Sort by the total cases per country, order by DESC, limit 10\n",
    "country_total_df = country_total_df.sort_values(by='Total_Country', ascending=False).head(10)"
   ]
  },
  {
   "cell_type": "code",
   "execution_count": 25,
   "id": "7e57baa8-46f3-4e0d-839a-6fd205d34fef",
   "metadata": {},
   "outputs": [
    {
     "data": {
      "image/png": "[encoded data removed]",
      "text/plain": [
       "<Figure size 640x480 with 1 Axes>"
      ]
     },
     "metadata": {},
     "output_type": "display_data"
    }
   ],
   "source": [
    "# Plot with seaborn\n",
    "sns.lineplot(x='Country', y='Total_Country', data=country_total_df, marker='o')\n",
    "plt.title('Top 10 Countries by Monkeypox Case Numbers')\n",
    "plt.xlabel('Countries')\n",
    "plt.ylabel('Total number of cases')\n",
    "plt.xticks(rotation=45)\n",
    "plt.tight_layout()\n",
    "plt.show()"
   ]
  },
  {
   "cell_type": "markdown",
   "id": "729a2db5-80f7-41fb-ab13-c974e89afd3c",
   "metadata": {},
   "source": [
    "### 4. Countries with the most confirmed cases"
   ]
  },
  {
   "cell_type": "code",
   "execution_count": 27,
   "id": "b706eb7f-7a71-4f37-8c67-6ae5d532e754",
   "metadata": {},
   "outputs": [
    {
     "data": {
      "text/html": [
       "<div>\n",
       "<style scoped>\n",
       "    .dataframe tbody tr th:only-of-type {\n",
       "        vertical-align: middle;\n",
       "    }\n",
       "\n",
       "    .dataframe tbody tr th {\n",
       "        vertical-align: top;\n",
       "    }\n",
       "\n",
       "    .dataframe thead th {\n",
       "        text-align: right;\n",
       "    }\n",
       "</style>\n",
       "<table border=\"1\" class=\"dataframe\">\n",
       "  <thead>\n",
       "    <tr style=\"text-align: right;\">\n",
       "      <th></th>\n",
       "      <th>Country</th>\n",
       "      <th>Confirmed_Cases</th>\n",
       "      <th>Suspected_Cases</th>\n",
       "      <th>Hospitalized</th>\n",
       "      <th>Travel_History_Yes</th>\n",
       "      <th>Travel_History_No</th>\n",
       "    </tr>\n",
       "  </thead>\n",
       "  <tbody>\n",
       "    <tr>\n",
       "      <th>0</th>\n",
       "      <td>England</td>\n",
       "      <td>3412.0</td>\n",
       "      <td>0.0</td>\n",
       "      <td>5.0</td>\n",
       "      <td>2.0</td>\n",
       "      <td>7.0</td>\n",
       "    </tr>\n",
       "    <tr>\n",
       "      <th>1</th>\n",
       "      <td>Portugal</td>\n",
       "      <td>908.0</td>\n",
       "      <td>0.0</td>\n",
       "      <td>0.0</td>\n",
       "      <td>0.0</td>\n",
       "      <td>34.0</td>\n",
       "    </tr>\n",
       "    <tr>\n",
       "      <th>2</th>\n",
       "      <td>Spain</td>\n",
       "      <td>7083.0</td>\n",
       "      <td>0.0</td>\n",
       "      <td>13.0</td>\n",
       "      <td>2.0</td>\n",
       "      <td>0.0</td>\n",
       "    </tr>\n",
       "    <tr>\n",
       "      <th>3</th>\n",
       "      <td>United States</td>\n",
       "      <td>24403.0</td>\n",
       "      <td>0.0</td>\n",
       "      <td>4.0</td>\n",
       "      <td>41.0</td>\n",
       "      <td>11.0</td>\n",
       "    </tr>\n",
       "    <tr>\n",
       "      <th>4</th>\n",
       "      <td>Canada</td>\n",
       "      <td>1388.0</td>\n",
       "      <td>12.0</td>\n",
       "      <td>1.0</td>\n",
       "      <td>5.0</td>\n",
       "      <td>0.0</td>\n",
       "    </tr>\n",
       "    <tr>\n",
       "      <th>...</th>\n",
       "      <td>...</td>\n",
       "      <td>...</td>\n",
       "      <td>...</td>\n",
       "      <td>...</td>\n",
       "      <td>...</td>\n",
       "      <td>...</td>\n",
       "    </tr>\n",
       "    <tr>\n",
       "      <th>124</th>\n",
       "      <td>Central African Republic</td>\n",
       "      <td>8.0</td>\n",
       "      <td>9.0</td>\n",
       "      <td>0.0</td>\n",
       "      <td>0.0</td>\n",
       "      <td>0.0</td>\n",
       "    </tr>\n",
       "    <tr>\n",
       "      <th>125</th>\n",
       "      <td>Republic of Congo</td>\n",
       "      <td>3.0</td>\n",
       "      <td>5.0</td>\n",
       "      <td>0.0</td>\n",
       "      <td>0.0</td>\n",
       "      <td>0.0</td>\n",
       "    </tr>\n",
       "    <tr>\n",
       "      <th>126</th>\n",
       "      <td>Cameroon</td>\n",
       "      <td>7.0</td>\n",
       "      <td>27.0</td>\n",
       "      <td>0.0</td>\n",
       "      <td>0.0</td>\n",
       "      <td>0.0</td>\n",
       "    </tr>\n",
       "    <tr>\n",
       "      <th>127</th>\n",
       "      <td>Liberia</td>\n",
       "      <td>2.0</td>\n",
       "      <td>0.0</td>\n",
       "      <td>0.0</td>\n",
       "      <td>0.0</td>\n",
       "      <td>0.0</td>\n",
       "    </tr>\n",
       "    <tr>\n",
       "      <th>128</th>\n",
       "      <td>Sierra Leone</td>\n",
       "      <td>0.0</td>\n",
       "      <td>2.0</td>\n",
       "      <td>0.0</td>\n",
       "      <td>0.0</td>\n",
       "      <td>0.0</td>\n",
       "    </tr>\n",
       "  </tbody>\n",
       "</table>\n",
       "<p>129 rows × 6 columns</p>\n",
       "</div>"
      ],
      "text/plain": [
       "                      Country  Confirmed_Cases  Suspected_Cases  Hospitalized  \\\n",
       "0                     England           3412.0              0.0           5.0   \n",
       "1                    Portugal            908.0              0.0           0.0   \n",
       "2                       Spain           7083.0              0.0          13.0   \n",
       "3               United States          24403.0              0.0           4.0   \n",
       "4                      Canada           1388.0             12.0           1.0   \n",
       "..                        ...              ...              ...           ...   \n",
       "124  Central African Republic              8.0              9.0           0.0   \n",
       "125         Republic of Congo              3.0              5.0           0.0   \n",
       "126                  Cameroon              7.0             27.0           0.0   \n",
       "127                   Liberia              2.0              0.0           0.0   \n",
       "128              Sierra Leone              0.0              2.0           0.0   \n",
       "\n",
       "     Travel_History_Yes  Travel_History_No  \n",
       "0                   2.0                7.0  \n",
       "1                   0.0               34.0  \n",
       "2                   2.0                0.0  \n",
       "3                  41.0               11.0  \n",
       "4                   5.0                0.0  \n",
       "..                  ...                ...  \n",
       "124                 0.0                0.0  \n",
       "125                 0.0                0.0  \n",
       "126                 0.0                0.0  \n",
       "127                 0.0                0.0  \n",
       "128                 0.0                0.0  \n",
       "\n",
       "[129 rows x 6 columns]"
      ]
     },
     "execution_count": 27,
     "metadata": {},
     "output_type": "execute_result"
    }
   ],
   "source": [
    "df_monkey_pox_cases"
   ]
  },
  {
   "cell_type": "code",
   "execution_count": 28,
   "id": "4337ffa2-7365-4d69-b5ee-846762445846",
   "metadata": {},
   "outputs": [
    {
     "data": {
      "text/html": [
       "<div>\n",
       "<style scoped>\n",
       "    .dataframe tbody tr th:only-of-type {\n",
       "        vertical-align: middle;\n",
       "    }\n",
       "\n",
       "    .dataframe tbody tr th {\n",
       "        vertical-align: top;\n",
       "    }\n",
       "\n",
       "    .dataframe thead th {\n",
       "        text-align: right;\n",
       "    }\n",
       "</style>\n",
       "<table border=\"1\" class=\"dataframe\">\n",
       "  <thead>\n",
       "    <tr style=\"text-align: right;\">\n",
       "      <th></th>\n",
       "      <th>Country</th>\n",
       "      <th>Confirmed_Cases</th>\n",
       "      <th>Suspected_Cases</th>\n",
       "      <th>Hospitalized</th>\n",
       "      <th>Travel_History_Yes</th>\n",
       "      <th>Travel_History_No</th>\n",
       "      <th>Proportion_Suspected_Cases</th>\n",
       "      <th>Proportion_Hospitalized</th>\n",
       "    </tr>\n",
       "  </thead>\n",
       "  <tbody>\n",
       "    <tr>\n",
       "      <th>0</th>\n",
       "      <td>England</td>\n",
       "      <td>3412.0</td>\n",
       "      <td>0.0</td>\n",
       "      <td>5.0</td>\n",
       "      <td>2.0</td>\n",
       "      <td>7.0</td>\n",
       "      <td>0.0</td>\n",
       "      <td>0.146542</td>\n",
       "    </tr>\n",
       "    <tr>\n",
       "      <th>1</th>\n",
       "      <td>Portugal</td>\n",
       "      <td>908.0</td>\n",
       "      <td>0.0</td>\n",
       "      <td>0.0</td>\n",
       "      <td>0.0</td>\n",
       "      <td>34.0</td>\n",
       "      <td>0.0</td>\n",
       "      <td>0.0</td>\n",
       "    </tr>\n",
       "    <tr>\n",
       "      <th>2</th>\n",
       "      <td>Spain</td>\n",
       "      <td>7083.0</td>\n",
       "      <td>0.0</td>\n",
       "      <td>13.0</td>\n",
       "      <td>2.0</td>\n",
       "      <td>0.0</td>\n",
       "      <td>0.0</td>\n",
       "      <td>0.183538</td>\n",
       "    </tr>\n",
       "    <tr>\n",
       "      <th>3</th>\n",
       "      <td>United States</td>\n",
       "      <td>24403.0</td>\n",
       "      <td>0.0</td>\n",
       "      <td>4.0</td>\n",
       "      <td>41.0</td>\n",
       "      <td>11.0</td>\n",
       "      <td>0.0</td>\n",
       "      <td>0.016391</td>\n",
       "    </tr>\n",
       "    <tr>\n",
       "      <th>4</th>\n",
       "      <td>Canada</td>\n",
       "      <td>1388.0</td>\n",
       "      <td>12.0</td>\n",
       "      <td>1.0</td>\n",
       "      <td>5.0</td>\n",
       "      <td>0.0</td>\n",
       "      <td>0.864553</td>\n",
       "      <td>0.072046</td>\n",
       "    </tr>\n",
       "    <tr>\n",
       "      <th>...</th>\n",
       "      <td>...</td>\n",
       "      <td>...</td>\n",
       "      <td>...</td>\n",
       "      <td>...</td>\n",
       "      <td>...</td>\n",
       "      <td>...</td>\n",
       "      <td>...</td>\n",
       "      <td>...</td>\n",
       "    </tr>\n",
       "    <tr>\n",
       "      <th>124</th>\n",
       "      <td>Central African Republic</td>\n",
       "      <td>8.0</td>\n",
       "      <td>9.0</td>\n",
       "      <td>0.0</td>\n",
       "      <td>0.0</td>\n",
       "      <td>0.0</td>\n",
       "      <td>112.5</td>\n",
       "      <td>0.0</td>\n",
       "    </tr>\n",
       "    <tr>\n",
       "      <th>125</th>\n",
       "      <td>Republic of Congo</td>\n",
       "      <td>3.0</td>\n",
       "      <td>5.0</td>\n",
       "      <td>0.0</td>\n",
       "      <td>0.0</td>\n",
       "      <td>0.0</td>\n",
       "      <td>166.666667</td>\n",
       "      <td>0.0</td>\n",
       "    </tr>\n",
       "    <tr>\n",
       "      <th>126</th>\n",
       "      <td>Cameroon</td>\n",
       "      <td>7.0</td>\n",
       "      <td>27.0</td>\n",
       "      <td>0.0</td>\n",
       "      <td>0.0</td>\n",
       "      <td>0.0</td>\n",
       "      <td>385.714286</td>\n",
       "      <td>0.0</td>\n",
       "    </tr>\n",
       "    <tr>\n",
       "      <th>127</th>\n",
       "      <td>Liberia</td>\n",
       "      <td>2.0</td>\n",
       "      <td>0.0</td>\n",
       "      <td>0.0</td>\n",
       "      <td>0.0</td>\n",
       "      <td>0.0</td>\n",
       "      <td>0.0</td>\n",
       "      <td>0.0</td>\n",
       "    </tr>\n",
       "    <tr>\n",
       "      <th>128</th>\n",
       "      <td>Sierra Leone</td>\n",
       "      <td>0.0</td>\n",
       "      <td>2.0</td>\n",
       "      <td>0.0</td>\n",
       "      <td>0.0</td>\n",
       "      <td>0.0</td>\n",
       "      <td>&lt;NA&gt;</td>\n",
       "      <td>&lt;NA&gt;</td>\n",
       "    </tr>\n",
       "  </tbody>\n",
       "</table>\n",
       "<p>129 rows × 8 columns</p>\n",
       "</div>"
      ],
      "text/plain": [
       "                      Country  Confirmed_Cases  Suspected_Cases  Hospitalized  \\\n",
       "0                     England           3412.0              0.0           5.0   \n",
       "1                    Portugal            908.0              0.0           0.0   \n",
       "2                       Spain           7083.0              0.0          13.0   \n",
       "3               United States          24403.0              0.0           4.0   \n",
       "4                      Canada           1388.0             12.0           1.0   \n",
       "..                        ...              ...              ...           ...   \n",
       "124  Central African Republic              8.0              9.0           0.0   \n",
       "125         Republic of Congo              3.0              5.0           0.0   \n",
       "126                  Cameroon              7.0             27.0           0.0   \n",
       "127                   Liberia              2.0              0.0           0.0   \n",
       "128              Sierra Leone              0.0              2.0           0.0   \n",
       "\n",
       "     Travel_History_Yes  Travel_History_No Proportion_Suspected_Cases  \\\n",
       "0                   2.0                7.0                        0.0   \n",
       "1                   0.0               34.0                        0.0   \n",
       "2                   2.0                0.0                        0.0   \n",
       "3                  41.0               11.0                        0.0   \n",
       "4                   5.0                0.0                   0.864553   \n",
       "..                  ...                ...                        ...   \n",
       "124                 0.0                0.0                      112.5   \n",
       "125                 0.0                0.0                 166.666667   \n",
       "126                 0.0                0.0                 385.714286   \n",
       "127                 0.0                0.0                        0.0   \n",
       "128                 0.0                0.0                       <NA>   \n",
       "\n",
       "    Proportion_Hospitalized  \n",
       "0                  0.146542  \n",
       "1                       0.0  \n",
       "2                  0.183538  \n",
       "3                  0.016391  \n",
       "4                  0.072046  \n",
       "..                      ...  \n",
       "124                     0.0  \n",
       "125                     0.0  \n",
       "126                     0.0  \n",
       "127                     0.0  \n",
       "128                    <NA>  \n",
       "\n",
       "[129 rows x 8 columns]"
      ]
     },
     "execution_count": 28,
     "metadata": {},
     "output_type": "execute_result"
    }
   ],
   "source": [
    "df_monkey_pox_cases['Proportion_Suspected_Cases'] = (df_monkey_pox_cases['Suspected_Cases'] / df_monkey_pox_cases['Confirmed_Cases'].replace(0, pd.NA)) * 100\n",
    "df_monkey_pox_cases['Proportion_Hospitalized'] = (df_monkey_pox_cases['Hospitalized'] / df_monkey_pox_cases['Confirmed_Cases'].replace(0, pd.NA)) * 100\n",
    "df_monkey_pox_cases"
   ]
  },
  {
   "cell_type": "code",
   "execution_count": 32,
   "id": "b9f5eaed-c41e-4754-9fff-c87620d98313",
   "metadata": {},
   "outputs": [
    {
     "name": "stderr",
     "output_type": "stream",
     "text": [
      "/var/folders/lb/gbzzh3xs2w5bhk44y2z2zsf80000gn/T/ipykernel_25053/2679333014.py:4: FutureWarning: \n",
      "\n",
      "Passing `palette` without assigning `hue` is deprecated and will be removed in v0.14.0. Assign the `y` variable to `hue` and set `legend=False` for the same effect.\n",
      "\n",
      "  sns.barplot(x='Proportion_Suspected_Cases', y='Country', data=df_propotions_suspected_cases, palette=\"viridis\")  # kde=True ajoute une courbe de densité\n"
     ]
    },
    {
     "data": {
      "image/png": "[encoded data removed]",
      "text/plain": [
       "<Figure size 800x500 with 1 Axes>"
      ]
     },
     "metadata": {},
     "output_type": "display_data"
    }
   ],
   "source": [
    "df_propotions_suspected_cases = df_monkey_pox_cases[['Country','Proportion_Suspected_Cases']]\n",
    "df_propotions_suspected_cases = df_propotions_suspected_cases.sort_values(by='Proportion_Suspected_Cases', ascending=False).head(10)\n",
    "plt.figure(figsize=(8, 5))\n",
    "sns.barplot(x='Proportion_Suspected_Cases', y='Country', data=df_propotions_suspected_cases, palette=\"viridis\")  # kde=True ajoute une courbe de densité\n",
    "plt.title(\"Histogramme de la colonne 'valeurs' avec Seaborn\")\n",
    "plt.xlabel(\"Valeurs\")\n",
    "plt.ylabel(\"Fréquence\")\n",
    "plt.show()"
   ]
  },
  {
   "cell_type": "code",
   "execution_count": 70,
   "id": "f41f12fc-4bca-4f2f-84cb-f3d426083148",
   "metadata": {},
   "outputs": [
    {
     "data": {
      "text/plain": [
       "<Axes: xlabel='Valeur', ylabel='Country'>"
      ]
     },
     "execution_count": 70,
     "metadata": {},
     "output_type": "execute_result"
    },
    {
     "data": {
      "image/png": "[encoded data removed]",
      "text/plain": [
       "<Figure size 1000x600 with 1 Axes>"
      ]
     },
     "metadata": {},
     "output_type": "display_data"
    }
   ],
   "source": [
    "# Transformation des données pour seaborn\n",
    "df_monkey_pox_case_top = df_monkey_pox_cases.sort_values(by='Proportion_Suspected_Cases', ascending=False).head(10)\n",
    "df_melted = df_monkey_pox_case_top.melt(id_vars='Country', value_vars=['Proportion_Suspected_Cases', 'Proportion_Hospitalized'], var_name='Type', value_name='Valeur')\n",
    "\n",
    "\n",
    "# Création du graphique en ligne avec seaborn\n",
    "plt.figure(figsize=(10, 6))\n",
    "sns.lineplot(x='Valeur', y='Country', hue='Type', data=df_melted, marker='o', palette=['blue', 'orange'])\n"
   ]
  },
  {
   "cell_type": "code",
   "execution_count": 50,
   "id": "84c99d53-35b5-431a-955a-dde4d5cc59b2",
   "metadata": {},
   "outputs": [
    {
     "data": {
      "application/vnd.plotly.v1+json": {
       "config": {
        "plotlyServerURL": "https://plot.ly"
       },
       "data": [
        {
         "coloraxis": "coloraxis",
         "geo": "geo",
         "hovertemplate": "<b>%{hovertext}</b><br><br>Country=%{location}<br>Confirmed_Cases=%{z}<extra></extra>",
         "hovertext": [
          "England",
          "Portugal",
          "Spain",
          "United States",
          "Canada",
          "Sweden",
          "Italy",
          "France",
          "Belgium",
          "Australia",
          "Germany",
          "Netherlands",
          "Israel",
          "Switzerland",
          "Greece",
          "Austria",
          "Argentina",
          "Denmark",
          "Morocco",
          "Slovenia",
          "Scotland",
          "Czech Republic",
          "United Arab Emirates",
          "Finland",
          "Wales",
          "Northern Ireland",
          "Sudan",
          "Bolivia",
          "Iran",
          "Ecuador",
          "Malta",
          "Ireland",
          "Mexico",
          "Pakistan",
          "French Guiana",
          "Thailand",
          "Peru",
          "Brazil",
          "Malaysia",
          "Hungary",
          "Norway",
          "Paraguay",
          "Costa Rica",
          "Gibraltar",
          "Mauritius",
          "Haiti",
          "Uruguay",
          "Latvia",
          "Cayman Islands",
          "Kosovo",
          "Turkey",
          "Bahamas",
          "Ghana",
          "India",
          "Iceland",
          "Poland",
          "Bangladesh",
          "Uganda",
          "Cambodia",
          "Malawi",
          "Venezuela",
          "Romania",
          "Georgia",
          "Slovakia",
          "Luxembourg",
          "Nepal",
          "Chile",
          "Serbia",
          "Lebanon",
          "South Korea",
          "Singapore",
          "South Africa",
          "Taiwan",
          "Colombia",
          "Croatia",
          "Bulgaria",
          "Somalia",
          "Zambia",
          "Fiji",
          "Benin",
          "Estonia",
          "Puerto Rico",
          "Panama",
          "Dominican Republic",
          "Jamaica",
          "New Zealand",
          "Russia",
          "Bosnia And Herzegovina",
          "Saudi Arabia",
          "Martinique",
          "Barbados",
          "Qatar",
          "Bermuda",
          "Japan",
          "Guadeloupe",
          "Andorra",
          "New Caledonia",
          "China",
          "Philippines",
          "Montenegro",
          "Cyprus",
          "Lithuania",
          "Guatemala",
          "Saint Martin (French part)",
          "Greenland",
          "Moldova",
          "Honduras",
          "Monaco",
          "Indonesia",
          "Curaçao",
          "Aruba",
          "Cuba",
          "Guyana",
          "El Salvador",
          "Belize",
          "Hong Kong",
          "South Sudan",
          "Egypt",
          "Jordan",
          "Guam",
          "Ukraine",
          "Bahrain",
          "Nigeria",
          "Democratic Republic Of The Congo",
          "Central African Republic",
          "Republic of Congo",
          "Cameroon",
          "Liberia",
          "Sierra Leone"
         ],
         "locationmode": "country names",
         "locations": [
          "England",
          "Portugal",
          "Spain",
          "United States",
          "Canada",
          "Sweden",
          "Italy",
          "France",
          "Belgium",
          "Australia",
          "Germany",
          "Netherlands",
          "Israel",
          "Switzerland",
          "Greece",
          "Austria",
          "Argentina",
          "Denmark",
          "Morocco",
          "Slovenia",
          "Scotland",
          "Czech Republic",
          "United Arab Emirates",
          "Finland",
          "Wales",
          "Northern Ireland",
          "Sudan",
          "Bolivia",
          "Iran",
          "Ecuador",
          "Malta",
          "Ireland",
          "Mexico",
          "Pakistan",
          "French Guiana",
          "Thailand",
          "Peru",
          "Brazil",
          "Malaysia",
          "Hungary",
          "Norway",
          "Paraguay",
          "Costa Rica",
          "Gibraltar",
          "Mauritius",
          "Haiti",
          "Uruguay",
          "Latvia",
          "Cayman Islands",
          "Kosovo",
          "Turkey",
          "Bahamas",
          "Ghana",
          "India",
          "Iceland",
          "Poland",
          "Bangladesh",
          "Uganda",
          "Cambodia",
          "Malawi",
          "Venezuela",
          "Romania",
          "Georgia",
          "Slovakia",
          "Luxembourg",
          "Nepal",
          "Chile",
          "Serbia",
          "Lebanon",
          "South Korea",
          "Singapore",
          "South Africa",
          "Taiwan",
          "Colombia",
          "Croatia",
          "Bulgaria",
          "Somalia",
          "Zambia",
          "Fiji",
          "Benin",
          "Estonia",
          "Puerto Rico",
          "Panama",
          "Dominican Republic",
          "Jamaica",
          "New Zealand",
          "Russia",
          "Bosnia And Herzegovina",
          "Saudi Arabia",
          "Martinique",
          "Barbados",
          "Qatar",
          "Bermuda",
          "Japan",
          "Guadeloupe",
          "Andorra",
          "New Caledonia",
          "China",
          "Philippines",
          "Montenegro",
          "Cyprus",
          "Lithuania",
          "Guatemala",
          "Saint Martin (French part)",
          "Greenland",
          "Moldova",
          "Honduras",
          "Monaco",
          "Indonesia",
          "Curaçao",
          "Aruba",
          "Cuba",
          "Guyana",
          "El Salvador",
          "Belize",
          "Hong Kong",
          "South Sudan",
          "Egypt",
          "Jordan",
          "Guam",
          "Ukraine",
          "Bahrain",
          "Nigeria",
          "Democratic Republic Of The Congo",
          "Central African Republic",
          "Republic of Congo",
          "Cameroon",
          "Liberia",
          "Sierra Leone"
         ],
         "name": "",
         "type": "choropleth",
         "z": [
          3412,
          908,
          7083,
          24403,
          1388,
          186,
          837,
          3934,
          757,
          132,
          3590,
          1221,
          250,
          503,
          72,
          304,
          326,
          183,
          3,
          46,
          93,
          66,
          16,
          33,
          46,
          34,
          6,
          155,
          1,
          93,
          33,
          178,
          1367,
          0,
          0,
          8,
          2251,
          7300,
          0,
          77,
          90,
          1,
          4,
          6,
          0,
          0,
          6,
          5,
          0,
          0,
          11,
          2,
          84,
          12,
          12,
          173,
          0,
          0,
          0,
          0,
          5,
          39,
          2,
          14,
          55,
          0,
          783,
          40,
          11,
          2,
          19,
          5,
          3,
          1653,
          29,
          6,
          0,
          0,
          0,
          3,
          11,
          173,
          13,
          31,
          13,
          5,
          2,
          3,
          8,
          7,
          1,
          5,
          1,
          4,
          1,
          4,
          1,
          1,
          4,
          2,
          5,
          5,
          15,
          1,
          2,
          2,
          6,
          3,
          1,
          3,
          3,
          2,
          2,
          4,
          0,
          1,
          2,
          1,
          1,
          1,
          2,
          1,
          277,
          195,
          8,
          3,
          7,
          2,
          0
         ]
        }
       ],
       "layout": {
        "autosize": true,
        "coloraxis": {
         "colorbar": {
          "title": {
           "text": "Confirmed_Cases"
          }
         },
         "colorscale": [
          [
           0,
           "rgb(255,247,236)"
          ],
          [
           0.125,
           "rgb(254,232,200)"
          ],
          [
           0.25,
           "rgb(253,212,158)"
          ],
          [
           0.375,
           "rgb(253,187,132)"
          ],
          [
           0.5,
           "rgb(252,141,89)"
          ],
          [
           0.625,
           "rgb(239,101,72)"
          ],
          [
           0.75,
           "rgb(215,48,31)"
          ],
          [
           0.875,
           "rgb(179,0,0)"
          ],
          [
           1,
           "rgb(127,0,0)"
          ]
         ]
        },
        "geo": {
         "center": {
          "lat": 35.55517222753235,
          "lon": 6.014452020224425
         },
         "domain": {
          "x": [
           0,
           1
          ],
          "y": [
           0,
           1
          ]
         },
         "projection": {
          "rotation": {
           "lon": 6.014452020224425
          },
          "scale": 1.2431496689039436
         }
        },
        "legend": {
         "tracegroupgap": 0
        },
        "template": {
         "data": {
          "bar": [
           {
            "error_x": {
             "color": "#2a3f5f"
            },
            "error_y": {
             "color": "#2a3f5f"
            },
            "marker": {
             "line": {
              "color": "#E5ECF6",
              "width": 0.5
             },
             "pattern": {
              "fillmode": "overlay",
              "size": 10,
              "solidity": 0.2
             }
            },
            "type": "bar"
           }
          ],
          "barpolar": [
           {
            "marker": {
             "line": {
              "color": "#E5ECF6",
              "width": 0.5
             },
             "pattern": {
              "fillmode": "overlay",
              "size": 10,
              "solidity": 0.2
             }
            },
            "type": "barpolar"
           }
          ],
          "carpet": [
           {
            "aaxis": {
             "endlinecolor": "#2a3f5f",
             "gridcolor": "white",
             "linecolor": "white",
             "minorgridcolor": "white",
             "startlinecolor": "#2a3f5f"
            },
            "baxis": {
             "endlinecolor": "#2a3f5f",
             "gridcolor": "white",
             "linecolor": "white",
             "minorgridcolor": "white",
             "startlinecolor": "#2a3f5f"
            },
            "type": "carpet"
           }
          ],
          "choropleth": [
           {
            "colorbar": {
             "outlinewidth": 0,
             "ticks": ""
            },
            "type": "choropleth"
           }
          ],
          "contour": [
           {
            "colorbar": {
             "outlinewidth": 0,
             "ticks": ""
            },
            "colorscale": [
             [
              0,
              "#0d0887"
             ],
             [
              0.1111111111111111,
              "#46039f"
             ],
             [
              0.2222222222222222,
              "#7201a8"
             ],
             [
              0.3333333333333333,
              "#9c179e"
             ],
             [
              0.4444444444444444,
              "#bd3786"
             ],
             [
              0.5555555555555556,
              "#d8576b"
             ],
             [
              0.6666666666666666,
              "#ed7953"
             ],
             [
              0.7777777777777778,
              "#fb9f3a"
             ],
             [
              0.8888888888888888,
              "#fdca26"
             ],
             [
              1,
              "#f0f921"
             ]
            ],
            "type": "contour"
           }
          ],
          "contourcarpet": [
           {
            "colorbar": {
             "outlinewidth": 0,
             "ticks": ""
            },
            "type": "contourcarpet"
           }
          ],
          "heatmap": [
           {
            "colorbar": {
             "outlinewidth": 0,
             "ticks": ""
            },
            "colorscale": [
             [
              0,
              "#0d0887"
             ],
             [
              0.1111111111111111,
              "#46039f"
             ],
             [
              0.2222222222222222,
              "#7201a8"
             ],
             [
              0.3333333333333333,
              "#9c179e"
             ],
             [
              0.4444444444444444,
              "#bd3786"
             ],
             [
              0.5555555555555556,
              "#d8576b"
             ],
             [
              0.6666666666666666,
              "#ed7953"
             ],
             [
              0.7777777777777778,
              "#fb9f3a"
             ],
             [
              0.8888888888888888,
              "#fdca26"
             ],
             [
              1,
              "#f0f921"
             ]
            ],
            "type": "heatmap"
           }
          ],
          "heatmapgl": [
           {
            "colorbar": {
             "outlinewidth": 0,
             "ticks": ""
            },
            "colorscale": [
             [
              0,
              "#0d0887"
             ],
             [
              0.1111111111111111,
              "#46039f"
             ],
             [
              0.2222222222222222,
              "#7201a8"
             ],
             [
              0.3333333333333333,
              "#9c179e"
             ],
             [
              0.4444444444444444,
              "#bd3786"
             ],
             [
              0.5555555555555556,
              "#d8576b"
             ],
             [
              0.6666666666666666,
              "#ed7953"
             ],
             [
              0.7777777777777778,
              "#fb9f3a"
             ],
             [
              0.8888888888888888,
              "#fdca26"
             ],
             [
              1,
              "#f0f921"
             ]
            ],
            "type": "heatmapgl"
           }
          ],
          "histogram": [
           {
            "marker": {
             "pattern": {
              "fillmode": "overlay",
              "size": 10,
              "solidity": 0.2
             }
            },
            "type": "histogram"
           }
          ],
          "histogram2d": [
           {
            "colorbar": {
             "outlinewidth": 0,
             "ticks": ""
            },
            "colorscale": [
             [
              0,
              "#0d0887"
             ],
             [
              0.1111111111111111,
              "#46039f"
             ],
             [
              0.2222222222222222,
              "#7201a8"
             ],
             [
              0.3333333333333333,
              "#9c179e"
             ],
             [
              0.4444444444444444,
              "#bd3786"
             ],
             [
              0.5555555555555556,
              "#d8576b"
             ],
             [
              0.6666666666666666,
              "#ed7953"
             ],
             [
              0.7777777777777778,
              "#fb9f3a"
             ],
             [
              0.8888888888888888,
              "#fdca26"
             ],
             [
              1,
              "#f0f921"
             ]
            ],
            "type": "histogram2d"
           }
          ],
          "histogram2dcontour": [
           {
            "colorbar": {
             "outlinewidth": 0,
             "ticks": ""
            },
            "colorscale": [
             [
              0,
              "#0d0887"
             ],
             [
              0.1111111111111111,
              "#46039f"
             ],
             [
              0.2222222222222222,
              "#7201a8"
             ],
             [
              0.3333333333333333,
              "#9c179e"
             ],
             [
              0.4444444444444444,
              "#bd3786"
             ],
             [
              0.5555555555555556,
              "#d8576b"
             ],
             [
              0.6666666666666666,
              "#ed7953"
             ],
             [
              0.7777777777777778,
              "#fb9f3a"
             ],
             [
              0.8888888888888888,
              "#fdca26"
             ],
             [
              1,
              "#f0f921"
             ]
            ],
            "type": "histogram2dcontour"
           }
          ],
          "mesh3d": [
           {
            "colorbar": {
             "outlinewidth": 0,
             "ticks": ""
            },
            "type": "mesh3d"
           }
          ],
          "parcoords": [
           {
            "line": {
             "colorbar": {
              "outlinewidth": 0,
              "ticks": ""
             }
            },
            "type": "parcoords"
           }
          ],
          "pie": [
           {
            "automargin": true,
            "type": "pie"
           }
          ],
          "scatter": [
           {
            "fillpattern": {
             "fillmode": "overlay",
             "size": 10,
             "solidity": 0.2
            },
            "type": "scatter"
           }
          ],
          "scatter3d": [
           {
            "line": {
             "colorbar": {
              "outlinewidth": 0,
              "ticks": ""
             }
            },
            "marker": {
             "colorbar": {
              "outlinewidth": 0,
              "ticks": ""
             }
            },
            "type": "scatter3d"
           }
          ],
          "scattercarpet": [
           {
            "marker": {
             "colorbar": {
              "outlinewidth": 0,
              "ticks": ""
             }
            },
            "type": "scattercarpet"
           }
          ],
          "scattergeo": [
           {
            "marker": {
             "colorbar": {
              "outlinewidth": 0,
              "ticks": ""
             }
            },
            "type": "scattergeo"
           }
          ],
          "scattergl": [
           {
            "marker": {
             "colorbar": {
              "outlinewidth": 0,
              "ticks": ""
             }
            },
            "type": "scattergl"
           }
          ],
          "scattermapbox": [
           {
            "marker": {
             "colorbar": {
              "outlinewidth": 0,
              "ticks": ""
             }
            },
            "type": "scattermapbox"
           }
          ],
          "scatterpolar": [
           {
            "marker": {
             "colorbar": {
              "outlinewidth": 0,
              "ticks": ""
             }
            },
            "type": "scatterpolar"
           }
          ],
          "scatterpolargl": [
           {
            "marker": {
             "colorbar": {
              "outlinewidth": 0,
              "ticks": ""
             }
            },
            "type": "scatterpolargl"
           }
          ],
          "scatterternary": [
           {
            "marker": {
             "colorbar": {
              "outlinewidth": 0,
              "ticks": ""
             }
            },
            "type": "scatterternary"
           }
          ],
          "surface": [
           {
            "colorbar": {
             "outlinewidth": 0,
             "ticks": ""
            },
            "colorscale": [
             [
              0,
              "#0d0887"
             ],
             [
              0.1111111111111111,
              "#46039f"
             ],
             [
              0.2222222222222222,
              "#7201a8"
             ],
             [
              0.3333333333333333,
              "#9c179e"
             ],
             [
              0.4444444444444444,
              "#bd3786"
             ],
             [
              0.5555555555555556,
              "#d8576b"
             ],
             [
              0.6666666666666666,
              "#ed7953"
             ],
             [
              0.7777777777777778,
              "#fb9f3a"
             ],
             [
              0.8888888888888888,
              "#fdca26"
             ],
             [
              1,
              "#f0f921"
             ]
            ],
            "type": "surface"
           }
          ],
          "table": [
           {
            "cells": {
             "fill": {
              "color": "#EBF0F8"
             },
             "line": {
              "color": "white"
             }
            },
            "header": {
             "fill": {
              "color": "#C8D4E3"
             },
             "line": {
              "color": "white"
             }
            },
            "type": "table"
           }
          ]
         },
         "layout": {
          "annotationdefaults": {
           "arrowcolor": "#2a3f5f",
           "arrowhead": 0,
           "arrowwidth": 1
          },
          "autotypenumbers": "strict",
          "coloraxis": {
           "colorbar": {
            "outlinewidth": 0,
            "ticks": ""
           }
          },
          "colorscale": {
           "diverging": [
            [
             0,
             "#8e0152"
            ],
            [
             0.1,
             "#c51b7d"
            ],
            [
             0.2,
             "#de77ae"
            ],
            [
             0.3,
             "#f1b6da"
            ],
            [
             0.4,
             "#fde0ef"
            ],
            [
             0.5,
             "#f7f7f7"
            ],
            [
             0.6,
             "#e6f5d0"
            ],
            [
             0.7,
             "#b8e186"
            ],
            [
             0.8,
             "#7fbc41"
            ],
            [
             0.9,
             "#4d9221"
            ],
            [
             1,
             "#276419"
            ]
           ],
           "sequential": [
            [
             0,
             "#0d0887"
            ],
            [
             0.1111111111111111,
             "#46039f"
            ],
            [
             0.2222222222222222,
             "#7201a8"
            ],
            [
             0.3333333333333333,
             "#9c179e"
            ],
            [
             0.4444444444444444,
             "#bd3786"
            ],
            [
             0.5555555555555556,
             "#d8576b"
            ],
            [
             0.6666666666666666,
             "#ed7953"
            ],
            [
             0.7777777777777778,
             "#fb9f3a"
            ],
            [
             0.8888888888888888,
             "#fdca26"
            ],
            [
             1,
             "#f0f921"
            ]
           ],
           "sequentialminus": [
            [
             0,
             "#0d0887"
            ],
            [
             0.1111111111111111,
             "#46039f"
            ],
            [
             0.2222222222222222,
             "#7201a8"
            ],
            [
             0.3333333333333333,
             "#9c179e"
            ],
            [
             0.4444444444444444,
             "#bd3786"
            ],
            [
             0.5555555555555556,
             "#d8576b"
            ],
            [
             0.6666666666666666,
             "#ed7953"
            ],
            [
             0.7777777777777778,
             "#fb9f3a"
            ],
            [
             0.8888888888888888,
             "#fdca26"
            ],
            [
             1,
             "#f0f921"
            ]
           ]
          },
          "colorway": [
           "#636efa",
           "#EF553B",
           "#00cc96",
           "#ab63fa",
           "#FFA15A",
           "#19d3f3",
           "#FF6692",
           "#B6E880",
           "#FF97FF",
           "#FECB52"
          ],
          "font": {
           "color": "#2a3f5f"
          },
          "geo": {
           "bgcolor": "white",
           "lakecolor": "white",
           "landcolor": "#E5ECF6",
           "showlakes": true,
           "showland": true,
           "subunitcolor": "white"
          },
          "hoverlabel": {
           "align": "left"
          },
          "hovermode": "closest",
          "mapbox": {
           "style": "light"
          },
          "paper_bgcolor": "white",
          "plot_bgcolor": "#E5ECF6",
          "polar": {
           "angularaxis": {
            "gridcolor": "white",
            "linecolor": "white",
            "ticks": ""
           },
           "bgcolor": "#E5ECF6",
           "radialaxis": {
            "gridcolor": "white",
            "linecolor": "white",
            "ticks": ""
           }
          },
          "scene": {
           "xaxis": {
            "backgroundcolor": "#E5ECF6",
            "gridcolor": "white",
            "gridwidth": 2,
            "linecolor": "white",
            "showbackground": true,
            "ticks": "",
            "zerolinecolor": "white"
           },
           "yaxis": {
            "backgroundcolor": "#E5ECF6",
            "gridcolor": "white",
            "gridwidth": 2,
            "linecolor": "white",
            "showbackground": true,
            "ticks": "",
            "zerolinecolor": "white"
           },
           "zaxis": {
            "backgroundcolor": "#E5ECF6",
            "gridcolor": "white",
            "gridwidth": 2,
            "linecolor": "white",
            "showbackground": true,
            "ticks": "",
            "zerolinecolor": "white"
           }
          },
          "shapedefaults": {
           "line": {
            "color": "#2a3f5f"
           }
          },
          "ternary": {
           "aaxis": {
            "gridcolor": "white",
            "linecolor": "white",
            "ticks": ""
           },
           "baxis": {
            "gridcolor": "white",
            "linecolor": "white",
            "ticks": ""
           },
           "bgcolor": "#E5ECF6",
           "caxis": {
            "gridcolor": "white",
            "linecolor": "white",
            "ticks": ""
           }
          },
          "title": {
           "x": 0.05
          },
          "xaxis": {
           "automargin": true,
           "gridcolor": "white",
           "linecolor": "white",
           "ticks": "",
           "title": {
            "standoff": 15
           },
           "zerolinecolor": "white",
           "zerolinewidth": 2
          },
          "yaxis": {
           "automargin": true,
           "gridcolor": "white",
           "linecolor": "white",
           "ticks": "",
           "title": {
            "standoff": 15
           },
           "zerolinecolor": "white",
           "zerolinewidth": 2
          }
         }
        },
        "title": {
         "text": "Confirmed Monkey Pox Cases by Country"
        }
       }
      },
      "image/png": "[encoded data removed]",
      "text/html": [
       "<div>                            <div id=\"fd370066-9e43-4aaf-9128-47258dded43a\" class=\"plotly-graph-div\" style=\"height:525px; width:100%;\"></div>            <script type=\"text/javascript\">                require([\"plotly\"], function(Plotly) {                    window.PLOTLYENV=window.PLOTLYENV || {};                                    if (document.getElementById(\"fd370066-9e43-4aaf-9128-47258dded43a\")) {                    Plotly.newPlot(                        \"fd370066-9e43-4aaf-9128-47258dded43a\",                        [{\"coloraxis\":\"coloraxis\",\"geo\":\"geo\",\"hovertemplate\":\"\\u003cb\\u003e%{hovertext}\\u003c\\u002fb\\u003e\\u003cbr\\u003e\\u003cbr\\u003eCountry=%{location}\\u003cbr\\u003eConfirmed_Cases=%{z}\\u003cextra\\u003e\\u003c\\u002fextra\\u003e\",\"hovertext\":[\"England\",\"Portugal\",\"Spain\",\"United States\",\"Canada\",\"Sweden\",\"Italy\",\"France\",\"Belgium\",\"Australia\",\"Germany\",\"Netherlands\",\"Israel\",\"Switzerland\",\"Greece\",\"Austria\",\"Argentina\",\"Denmark\",\"Morocco\",\"Slovenia\",\"Scotland\",\"Czech Republic\",\"United Arab Emirates\",\"Finland\",\"Wales\",\"Northern Ireland\",\"Sudan\",\"Bolivia\",\"Iran\",\"Ecuador\",\"Malta\",\"Ireland\",\"Mexico\",\"Pakistan\",\"French Guiana\",\"Thailand\",\"Peru\",\"Brazil\",\"Malaysia\",\"Hungary\",\"Norway\",\"Paraguay\",\"Costa Rica\",\"Gibraltar\",\"Mauritius\",\"Haiti\",\"Uruguay\",\"Latvia\",\"Cayman Islands\",\"Kosovo\",\"Turkey\",\"Bahamas\",\"Ghana\",\"India\",\"Iceland\",\"Poland\",\"Bangladesh\",\"Uganda\",\"Cambodia\",\"Malawi\",\"Venezuela\",\"Romania\",\"Georgia\",\"Slovakia\",\"Luxembourg\",\"Nepal\",\"Chile\",\"Serbia\",\"Lebanon\",\"South Korea\",\"Singapore\",\"South Africa\",\"Taiwan\",\"Colombia\",\"Croatia\",\"Bulgaria\",\"Somalia\",\"Zambia\",\"Fiji\",\"Benin\",\"Estonia\",\"Puerto Rico\",\"Panama\",\"Dominican Republic\",\"Jamaica\",\"New Zealand\",\"Russia\",\"Bosnia And Herzegovina\",\"Saudi Arabia\",\"Martinique\",\"Barbados\",\"Qatar\",\"Bermuda\",\"Japan\",\"Guadeloupe\",\"Andorra\",\"New Caledonia\",\"China\",\"Philippines\",\"Montenegro\",\"Cyprus\",\"Lithuania\",\"Guatemala\",\"Saint Martin (French part)\",\"Greenland\",\"Moldova\",\"Honduras\",\"Monaco\",\"Indonesia\",\"Cura\\u00e7ao\",\"Aruba\",\"Cuba\",\"Guyana\",\"El Salvador\",\"Belize\",\"Hong Kong\",\"South Sudan\",\"Egypt\",\"Jordan\",\"Guam\",\"Ukraine\",\"Bahrain\",\"Nigeria\",\"Democratic Republic Of The Congo\",\"Central African Republic\",\"Republic of Congo\",\"Cameroon\",\"Liberia\",\"Sierra Leone\"],\"locationmode\":\"country names\",\"locations\":[\"England\",\"Portugal\",\"Spain\",\"United States\",\"Canada\",\"Sweden\",\"Italy\",\"France\",\"Belgium\",\"Australia\",\"Germany\",\"Netherlands\",\"Israel\",\"Switzerland\",\"Greece\",\"Austria\",\"Argentina\",\"Denmark\",\"Morocco\",\"Slovenia\",\"Scotland\",\"Czech Republic\",\"United Arab Emirates\",\"Finland\",\"Wales\",\"Northern Ireland\",\"Sudan\",\"Bolivia\",\"Iran\",\"Ecuador\",\"Malta\",\"Ireland\",\"Mexico\",\"Pakistan\",\"French Guiana\",\"Thailand\",\"Peru\",\"Brazil\",\"Malaysia\",\"Hungary\",\"Norway\",\"Paraguay\",\"Costa Rica\",\"Gibraltar\",\"Mauritius\",\"Haiti\",\"Uruguay\",\"Latvia\",\"Cayman Islands\",\"Kosovo\",\"Turkey\",\"Bahamas\",\"Ghana\",\"India\",\"Iceland\",\"Poland\",\"Bangladesh\",\"Uganda\",\"Cambodia\",\"Malawi\",\"Venezuela\",\"Romania\",\"Georgia\",\"Slovakia\",\"Luxembourg\",\"Nepal\",\"Chile\",\"Serbia\",\"Lebanon\",\"South Korea\",\"Singapore\",\"South Africa\",\"Taiwan\",\"Colombia\",\"Croatia\",\"Bulgaria\",\"Somalia\",\"Zambia\",\"Fiji\",\"Benin\",\"Estonia\",\"Puerto Rico\",\"Panama\",\"Dominican Republic\",\"Jamaica\",\"New Zealand\",\"Russia\",\"Bosnia And Herzegovina\",\"Saudi Arabia\",\"Martinique\",\"Barbados\",\"Qatar\",\"Bermuda\",\"Japan\",\"Guadeloupe\",\"Andorra\",\"New Caledonia\",\"China\",\"Philippines\",\"Montenegro\",\"Cyprus\",\"Lithuania\",\"Guatemala\",\"Saint Martin (French part)\",\"Greenland\",\"Moldova\",\"Honduras\",\"Monaco\",\"Indonesia\",\"Cura\\u00e7ao\",\"Aruba\",\"Cuba\",\"Guyana\",\"El Salvador\",\"Belize\",\"Hong Kong\",\"South Sudan\",\"Egypt\",\"Jordan\",\"Guam\",\"Ukraine\",\"Bahrain\",\"Nigeria\",\"Democratic Republic Of The Congo\",\"Central African Republic\",\"Republic of Congo\",\"Cameroon\",\"Liberia\",\"Sierra Leone\"],\"name\":\"\",\"z\":[3412.0,908.0,7083.0,24403.0,1388.0,186.0,837.0,3934.0,757.0,132.0,3590.0,1221.0,250.0,503.0,72.0,304.0,326.0,183.0,3.0,46.0,93.0,66.0,16.0,33.0,46.0,34.0,6.0,155.0,1.0,93.0,33.0,178.0,1367.0,0.0,0.0,8.0,2251.0,7300.0,0.0,77.0,90.0,1.0,4.0,6.0,0.0,0.0,6.0,5.0,0.0,0.0,11.0,2.0,84.0,12.0,12.0,173.0,0.0,0.0,0.0,0.0,5.0,39.0,2.0,14.0,55.0,0.0,783.0,40.0,11.0,2.0,19.0,5.0,3.0,1653.0,29.0,6.0,0.0,0.0,0.0,3.0,11.0,173.0,13.0,31.0,13.0,5.0,2.0,3.0,8.0,7.0,1.0,5.0,1.0,4.0,1.0,4.0,1.0,1.0,4.0,2.0,5.0,5.0,15.0,1.0,2.0,2.0,6.0,3.0,1.0,3.0,3.0,2.0,2.0,4.0,0.0,1.0,2.0,1.0,1.0,1.0,2.0,1.0,277.0,195.0,8.0,3.0,7.0,2.0,0.0],\"type\":\"choropleth\"}],                        {\"template\":{\"data\":{\"histogram2dcontour\":[{\"type\":\"histogram2dcontour\",\"colorbar\":{\"outlinewidth\":0,\"ticks\":\"\"},\"colorscale\":[[0.0,\"#0d0887\"],[0.1111111111111111,\"#46039f\"],[0.2222222222222222,\"#7201a8\"],[0.3333333333333333,\"#9c179e\"],[0.4444444444444444,\"#bd3786\"],[0.5555555555555556,\"#d8576b\"],[0.6666666666666666,\"#ed7953\"],[0.7777777777777778,\"#fb9f3a\"],[0.8888888888888888,\"#fdca26\"],[1.0,\"#f0f921\"]]}],\"choropleth\":[{\"type\":\"choropleth\",\"colorbar\":{\"outlinewidth\":0,\"ticks\":\"\"}}],\"histogram2d\":[{\"type\":\"histogram2d\",\"colorbar\":{\"outlinewidth\":0,\"ticks\":\"\"},\"colorscale\":[[0.0,\"#0d0887\"],[0.1111111111111111,\"#46039f\"],[0.2222222222222222,\"#7201a8\"],[0.3333333333333333,\"#9c179e\"],[0.4444444444444444,\"#bd3786\"],[0.5555555555555556,\"#d8576b\"],[0.6666666666666666,\"#ed7953\"],[0.7777777777777778,\"#fb9f3a\"],[0.8888888888888888,\"#fdca26\"],[1.0,\"#f0f921\"]]}],\"heatmap\":[{\"type\":\"heatmap\",\"colorbar\":{\"outlinewidth\":0,\"ticks\":\"\"},\"colorscale\":[[0.0,\"#0d0887\"],[0.1111111111111111,\"#46039f\"],[0.2222222222222222,\"#7201a8\"],[0.3333333333333333,\"#9c179e\"],[0.4444444444444444,\"#bd3786\"],[0.5555555555555556,\"#d8576b\"],[0.6666666666666666,\"#ed7953\"],[0.7777777777777778,\"#fb9f3a\"],[0.8888888888888888,\"#fdca26\"],[1.0,\"#f0f921\"]]}],\"heatmapgl\":[{\"type\":\"heatmapgl\",\"colorbar\":{\"outlinewidth\":0,\"ticks\":\"\"},\"colorscale\":[[0.0,\"#0d0887\"],[0.1111111111111111,\"#46039f\"],[0.2222222222222222,\"#7201a8\"],[0.3333333333333333,\"#9c179e\"],[0.4444444444444444,\"#bd3786\"],[0.5555555555555556,\"#d8576b\"],[0.6666666666666666,\"#ed7953\"],[0.7777777777777778,\"#fb9f3a\"],[0.8888888888888888,\"#fdca26\"],[1.0,\"#f0f921\"]]}],\"contourcarpet\":[{\"type\":\"contourcarpet\",\"colorbar\":{\"outlinewidth\":0,\"ticks\":\"\"}}],\"contour\":[{\"type\":\"contour\",\"colorbar\":{\"outlinewidth\":0,\"ticks\":\"\"},\"colorscale\":[[0.0,\"#0d0887\"],[0.1111111111111111,\"#46039f\"],[0.2222222222222222,\"#7201a8\"],[0.3333333333333333,\"#9c179e\"],[0.4444444444444444,\"#bd3786\"],[0.5555555555555556,\"#d8576b\"],[0.6666666666666666,\"#ed7953\"],[0.7777777777777778,\"#fb9f3a\"],[0.8888888888888888,\"#fdca26\"],[1.0,\"#f0f921\"]]}],\"surface\":[{\"type\":\"surface\",\"colorbar\":{\"outlinewidth\":0,\"ticks\":\"\"},\"colorscale\":[[0.0,\"#0d0887\"],[0.1111111111111111,\"#46039f\"],[0.2222222222222222,\"#7201a8\"],[0.3333333333333333,\"#9c179e\"],[0.4444444444444444,\"#bd3786\"],[0.5555555555555556,\"#d8576b\"],[0.6666666666666666,\"#ed7953\"],[0.7777777777777778,\"#fb9f3a\"],[0.8888888888888888,\"#fdca26\"],[1.0,\"#f0f921\"]]}],\"mesh3d\":[{\"type\":\"mesh3d\",\"colorbar\":{\"outlinewidth\":0,\"ticks\":\"\"}}],\"scatter\":[{\"fillpattern\":{\"fillmode\":\"overlay\",\"size\":10,\"solidity\":0.2},\"type\":\"scatter\"}],\"parcoords\":[{\"type\":\"parcoords\",\"line\":{\"colorbar\":{\"outlinewidth\":0,\"ticks\":\"\"}}}],\"scatterpolargl\":[{\"type\":\"scatterpolargl\",\"marker\":{\"colorbar\":{\"outlinewidth\":0,\"ticks\":\"\"}}}],\"bar\":[{\"error_x\":{\"color\":\"#2a3f5f\"},\"error_y\":{\"color\":\"#2a3f5f\"},\"marker\":{\"line\":{\"color\":\"#E5ECF6\",\"width\":0.5},\"pattern\":{\"fillmode\":\"overlay\",\"size\":10,\"solidity\":0.2}},\"type\":\"bar\"}],\"scattergeo\":[{\"type\":\"scattergeo\",\"marker\":{\"colorbar\":{\"outlinewidth\":0,\"ticks\":\"\"}}}],\"scatterpolar\":[{\"type\":\"scatterpolar\",\"marker\":{\"colorbar\":{\"outlinewidth\":0,\"ticks\":\"\"}}}],\"histogram\":[{\"marker\":{\"pattern\":{\"fillmode\":\"overlay\",\"size\":10,\"solidity\":0.2}},\"type\":\"histogram\"}],\"scattergl\":[{\"type\":\"scattergl\",\"marker\":{\"colorbar\":{\"outlinewidth\":0,\"ticks\":\"\"}}}],\"scatter3d\":[{\"type\":\"scatter3d\",\"line\":{\"colorbar\":{\"outlinewidth\":0,\"ticks\":\"\"}},\"marker\":{\"colorbar\":{\"outlinewidth\":0,\"ticks\":\"\"}}}],\"scattermapbox\":[{\"type\":\"scattermapbox\",\"marker\":{\"colorbar\":{\"outlinewidth\":0,\"ticks\":\"\"}}}],\"scatterternary\":[{\"type\":\"scatterternary\",\"marker\":{\"colorbar\":{\"outlinewidth\":0,\"ticks\":\"\"}}}],\"scattercarpet\":[{\"type\":\"scattercarpet\",\"marker\":{\"colorbar\":{\"outlinewidth\":0,\"ticks\":\"\"}}}],\"carpet\":[{\"aaxis\":{\"endlinecolor\":\"#2a3f5f\",\"gridcolor\":\"white\",\"linecolor\":\"white\",\"minorgridcolor\":\"white\",\"startlinecolor\":\"#2a3f5f\"},\"baxis\":{\"endlinecolor\":\"#2a3f5f\",\"gridcolor\":\"white\",\"linecolor\":\"white\",\"minorgridcolor\":\"white\",\"startlinecolor\":\"#2a3f5f\"},\"type\":\"carpet\"}],\"table\":[{\"cells\":{\"fill\":{\"color\":\"#EBF0F8\"},\"line\":{\"color\":\"white\"}},\"header\":{\"fill\":{\"color\":\"#C8D4E3\"},\"line\":{\"color\":\"white\"}},\"type\":\"table\"}],\"barpolar\":[{\"marker\":{\"line\":{\"color\":\"#E5ECF6\",\"width\":0.5},\"pattern\":{\"fillmode\":\"overlay\",\"size\":10,\"solidity\":0.2}},\"type\":\"barpolar\"}],\"pie\":[{\"automargin\":true,\"type\":\"pie\"}]},\"layout\":{\"autotypenumbers\":\"strict\",\"colorway\":[\"#636efa\",\"#EF553B\",\"#00cc96\",\"#ab63fa\",\"#FFA15A\",\"#19d3f3\",\"#FF6692\",\"#B6E880\",\"#FF97FF\",\"#FECB52\"],\"font\":{\"color\":\"#2a3f5f\"},\"hovermode\":\"closest\",\"hoverlabel\":{\"align\":\"left\"},\"paper_bgcolor\":\"white\",\"plot_bgcolor\":\"#E5ECF6\",\"polar\":{\"bgcolor\":\"#E5ECF6\",\"angularaxis\":{\"gridcolor\":\"white\",\"linecolor\":\"white\",\"ticks\":\"\"},\"radialaxis\":{\"gridcolor\":\"white\",\"linecolor\":\"white\",\"ticks\":\"\"}},\"ternary\":{\"bgcolor\":\"#E5ECF6\",\"aaxis\":{\"gridcolor\":\"white\",\"linecolor\":\"white\",\"ticks\":\"\"},\"baxis\":{\"gridcolor\":\"white\",\"linecolor\":\"white\",\"ticks\":\"\"},\"caxis\":{\"gridcolor\":\"white\",\"linecolor\":\"white\",\"ticks\":\"\"}},\"coloraxis\":{\"colorbar\":{\"outlinewidth\":0,\"ticks\":\"\"}},\"colorscale\":{\"sequential\":[[0.0,\"#0d0887\"],[0.1111111111111111,\"#46039f\"],[0.2222222222222222,\"#7201a8\"],[0.3333333333333333,\"#9c179e\"],[0.4444444444444444,\"#bd3786\"],[0.5555555555555556,\"#d8576b\"],[0.6666666666666666,\"#ed7953\"],[0.7777777777777778,\"#fb9f3a\"],[0.8888888888888888,\"#fdca26\"],[1.0,\"#f0f921\"]],\"sequentialminus\":[[0.0,\"#0d0887\"],[0.1111111111111111,\"#46039f\"],[0.2222222222222222,\"#7201a8\"],[0.3333333333333333,\"#9c179e\"],[0.4444444444444444,\"#bd3786\"],[0.5555555555555556,\"#d8576b\"],[0.6666666666666666,\"#ed7953\"],[0.7777777777777778,\"#fb9f3a\"],[0.8888888888888888,\"#fdca26\"],[1.0,\"#f0f921\"]],\"diverging\":[[0,\"#8e0152\"],[0.1,\"#c51b7d\"],[0.2,\"#de77ae\"],[0.3,\"#f1b6da\"],[0.4,\"#fde0ef\"],[0.5,\"#f7f7f7\"],[0.6,\"#e6f5d0\"],[0.7,\"#b8e186\"],[0.8,\"#7fbc41\"],[0.9,\"#4d9221\"],[1,\"#276419\"]]},\"xaxis\":{\"gridcolor\":\"white\",\"linecolor\":\"white\",\"ticks\":\"\",\"title\":{\"standoff\":15},\"zerolinecolor\":\"white\",\"automargin\":true,\"zerolinewidth\":2},\"yaxis\":{\"gridcolor\":\"white\",\"linecolor\":\"white\",\"ticks\":\"\",\"title\":{\"standoff\":15},\"zerolinecolor\":\"white\",\"automargin\":true,\"zerolinewidth\":2},\"scene\":{\"xaxis\":{\"backgroundcolor\":\"#E5ECF6\",\"gridcolor\":\"white\",\"linecolor\":\"white\",\"showbackground\":true,\"ticks\":\"\",\"zerolinecolor\":\"white\",\"gridwidth\":2},\"yaxis\":{\"backgroundcolor\":\"#E5ECF6\",\"gridcolor\":\"white\",\"linecolor\":\"white\",\"showbackground\":true,\"ticks\":\"\",\"zerolinecolor\":\"white\",\"gridwidth\":2},\"zaxis\":{\"backgroundcolor\":\"#E5ECF6\",\"gridcolor\":\"white\",\"linecolor\":\"white\",\"showbackground\":true,\"ticks\":\"\",\"zerolinecolor\":\"white\",\"gridwidth\":2}},\"shapedefaults\":{\"line\":{\"color\":\"#2a3f5f\"}},\"annotationdefaults\":{\"arrowcolor\":\"#2a3f5f\",\"arrowhead\":0,\"arrowwidth\":1},\"geo\":{\"bgcolor\":\"white\",\"landcolor\":\"#E5ECF6\",\"subunitcolor\":\"white\",\"showland\":true,\"showlakes\":true,\"lakecolor\":\"white\"},\"title\":{\"x\":0.05},\"mapbox\":{\"style\":\"light\"}}},\"geo\":{\"domain\":{\"x\":[0.0,1.0],\"y\":[0.0,1.0]},\"center\":{}},\"coloraxis\":{\"colorbar\":{\"title\":{\"text\":\"Confirmed_Cases\"}},\"colorscale\":[[0.0,\"rgb(255,247,236)\"],[0.125,\"rgb(254,232,200)\"],[0.25,\"rgb(253,212,158)\"],[0.375,\"rgb(253,187,132)\"],[0.5,\"rgb(252,141,89)\"],[0.625,\"rgb(239,101,72)\"],[0.75,\"rgb(215,48,31)\"],[0.875,\"rgb(179,0,0)\"],[1.0,\"rgb(127,0,0)\"]]},\"legend\":{\"tracegroupgap\":0},\"title\":{\"text\":\"Confirmed Monkey Pox Cases by Country\"}},                        {\"responsive\": true}                    ).then(function(){\n",
       "                            \n",
       "var gd = document.getElementById('fd370066-9e43-4aaf-9128-47258dded43a');\n",
       "var x = new MutationObserver(function (mutations, observer) {{\n",
       "        var display = window.getComputedStyle(gd).display;\n",
       "        if (!display || display === 'none') {{\n",
       "            console.log([gd, 'removed!']);\n",
       "            Plotly.purge(gd);\n",
       "            observer.disconnect();\n",
       "        }}\n",
       "}});\n",
       "\n",
       "// Listen for the removal of the full notebook cells\n",
       "var notebookContainer = gd.closest('#notebook-container');\n",
       "if (notebookContainer) {{\n",
       "    x.observe(notebookContainer, {childList: true});\n",
       "}}\n",
       "\n",
       "// Listen for the clearing of the current output cell\n",
       "var outputEl = gd.closest('.output');\n",
       "if (outputEl) {{\n",
       "    x.observe(outputEl, {childList: true});\n",
       "}}\n",
       "\n",
       "                        })                };                });            </script>        </div>"
      ]
     },
     "metadata": {},
     "output_type": "display_data"
    }
   ],
   "source": [
    "# Create basic choropleth map\n",
    "fig = px.choropleth(df_monkey_pox_cases,\n",
    "                    locations=\"Country\",          # Colonne avec les noms des pays\n",
    "                    locationmode=\"country names\", # Mode pour identifier les pays par nom\n",
    "                    color=\"Confirmed_Cases\",      # Colonne pour le gradient de couleur\n",
    "                    hover_name=\"Country\",         # Texte à afficher au survol\n",
    "                    color_continuous_scale=\"OrRd\",# Palette de couleurs\n",
    "                    title=\"Confirmed Monkey Pox Cases by Country\")\n",
    "\n",
    "# Afficher la carte\n",
    "fig.show()"
   ]
  },
  {
   "cell_type": "code",
   "execution_count": null,
   "id": "d3b186a4-c334-4768-a34c-de08ce291fae",
   "metadata": {},
   "outputs": [],
   "source": []
  }
 ],
 "metadata": {
  "kernelspec": {
   "display_name": "Python 3 (ipykernel)",
   "language": "python",
   "name": "python3"
  },
  "language_info": {
   "codemirror_mode": {
    "name": "ipython",
    "version": 3
   },
   "file_extension": ".py",
   "mimetype": "text/x-python",
   "name": "python",
   "nbconvert_exporter": "python",
   "pygments_lexer": "ipython3",
   "version": "3.12.4"
  }
 },
 "nbformat": 4,
 "nbformat_minor": 5
}
